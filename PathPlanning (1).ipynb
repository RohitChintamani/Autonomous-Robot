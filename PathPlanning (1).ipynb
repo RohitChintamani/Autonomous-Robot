{
 "cells": [
  {
   "cell_type": "code",
   "execution_count": 41,
   "id": "4bd9d988-d3c9-4d20-aec1-f6c438d0916f",
   "metadata": {},
   "outputs": [
    {
     "name": "stdout",
     "output_type": "stream",
     "text": [
      "[<GridNode(0:0 0x264d8a684c0)>, <GridNode(1:0 0x264d8a68820)>, <GridNode(2:0 0x264d8a682e0)>, <GridNode(3:0 0x264d8a68850)>, <GridNode(4:0 0x264d8a689d0)>, <GridNode(5:0 0x264d8a68520)>, <GridNode(5:1 0x264d8a68be0)>, <GridNode(5:2 0x264d8a68a90)>]\n"
     ]
    }
   ],
   "source": [
    "from pathfinding.core.grid import Grid\n",
    "from pathfinding.finder.a_star import AStarFinder\n",
    "\n",
    "matrix = [\n",
    "    [1,1,1,1,1,1],\n",
    "    [1,0,1,1,1,1],\n",
    "    [1,1,1,1,1,1]\n",
    "    ]\n",
    "\n",
    "grid = Grid(matrix = matrix)\n",
    "\n",
    "start = grid.node(0,0)\n",
    "end = grid.node(5,2)\n",
    "\n",
    "finder = AStarFinder()\n",
    "\n",
    "path, run = finder.find_path(start, end, grid)\n",
    "\n",
    "print(path)"
   ]
  },
  {
   "cell_type": "markdown",
   "id": "e19da35f-8921-4400-9b44-c92860628d32",
   "metadata": {},
   "source": [
    "#### IMAGE TO MATRIX CODE"
   ]
  },
  {
   "cell_type": "code",
   "execution_count": 2,
   "id": "91efde50-477c-47b4-afe9-25fececf4ca0",
   "metadata": {},
   "outputs": [
    {
     "name": "stdout",
     "output_type": "stream",
     "text": [
      "[[1 1 1 ... 1 1 1]\n",
      " [1 1 1 ... 1 1 1]\n",
      " [1 1 1 ... 1 1 1]\n",
      " ...\n",
      " [1 1 1 ... 1 1 1]\n",
      " [1 1 1 ... 1 1 1]\n",
      " [1 1 1 ... 1 1 1]]\n"
     ]
    }
   ],
   "source": [
    "import cv2\n",
    "import numpy as np\n",
    "\n",
    "def image_to_matrix(image):\n",
    "  \"\"\"Converts an image to a matrix of 1s (free space) and 0s (obstacles)\"\"\"\n",
    "  # Convert image to grayscale (assuming black and white)\n",
    "  gray_image = cv2.cvtColor(image, cv2.COLOR_BGR2GRAY)\n",
    "\n",
    "  # Threshold the image to create binary representation (white: 255, black: 0)\n",
    "  _, binary_image = cv2.threshold(gray_image, 127, 255, cv2.THRESH_BINARY)\n",
    "\n",
    "  # Convert white pixels (255) to 1 and black pixels (0) to 0\n",
    "  return np.where(binary_image == 255, 1, 0)\n",
    "\n",
    "# Example usage\n",
    "image = cv2.imread(\"C:\\\\Users\\\\vyas\\\\Desktop\\\\ROBOT PROJECT CODES\\\\floorplan.png\")\n",
    "matrix = image_to_matrix(image)\n",
    "\n",
    "# Print the matrix (optional)\n",
    "print(matrix)"
   ]
  },
  {
   "cell_type": "code",
   "execution_count": 15,
   "id": "d7eb30f4-1983-4e1d-8fc6-10055613a3a7",
   "metadata": {},
   "outputs": [
    {
     "name": "stdout",
     "output_type": "stream",
     "text": [
      "[<GridNode(0:0 0x23b4127ff10)>, <GridNode(1:0 0x23b4127ff40)>, <GridNode(2:0 0x23b4127fee0)>, <GridNode(3:0 0x23b4127f3a0)>, <GridNode(4:0 0x23b4127ff70)>, <GridNode(5:0 0x23b39a1f220)>, <GridNode(5:1 0x23b382625e0)>, <GridNode(5:2 0x23b382489d0)>]\n"
     ]
    }
   ],
   "source": [
    "from pathfinding.core.grid import Grid\n",
    "from pathfinding.finder.a_star import AStarFinder\n",
    "import cv2\n",
    "import numpy as np\n",
    "\n",
    "def image_to_matrix(image):\n",
    "  \"\"\"Converts an image to a matrix of 1s (free space) and 0s (obstacles)\"\"\"\n",
    "  # Convert image to grayscale (assuming black and white)\n",
    "  gray_image = cv2.cvtColor(image, cv2.COLOR_BGR2GRAY)\n",
    "\n",
    "  # Threshold the image to create binary representation (white: 255, black: 0)\n",
    "  _, binary_image = cv2.threshold(gray_image, 127, 255, cv2.THRESH_BINARY)\n",
    "\n",
    "  # Convert white pixels (255) to 1 and black pixels (0) to 0\n",
    "  return np.where(binary_image == 255, 1, 0)\n",
    "\n",
    "# Example usage\n",
    "image = cv2.imread(\"C:\\\\Users\\\\vyas\\\\Desktop\\\\ROBOT PROJECT CODES\\\\floorplan.png\")\n",
    "matrix = image_to_matrix(image)\n",
    "\n",
    "grid = Grid(matrix = matrix)\n",
    "\n",
    "start = grid.node(0,0)\n",
    "end = grid.node(5,2)\n",
    "\n",
    "finder = AStarFinder()\n",
    "\n",
    "path, run = finder.find_path(start, end, grid)\n",
    "\n",
    "print(path)"
   ]
  },
  {
   "cell_type": "markdown",
   "id": "5b9734f6-feed-47cd-8181-6350a056faef",
   "metadata": {},
   "source": [
    "#### CODE TO STORE START AND END NODES BY CLICKING THE IMAGE"
   ]
  },
  {
   "cell_type": "code",
   "execution_count": 11,
   "id": "6954204d-1d5f-4e98-b482-3201fba63612",
   "metadata": {},
   "outputs": [
    {
     "name": "stdout",
     "output_type": "stream",
     "text": [
      "Start coordinates: (138, 73)\n",
      "End coordinates: (204, 125)\n"
     ]
    }
   ],
   "source": [
    "import cv2\n",
    "\n",
    "# Variables to store click coordinates\n",
    "click_count = 0\n",
    "start = None\n",
    "end = None\n",
    "\n",
    "def click_event(event, x, y, flags, params):\n",
    "    global click_count, start, end, img\n",
    "\n",
    "    if event == cv2.EVENT_LBUTTONDOWN:\n",
    "        if click_count == 0:\n",
    "            start = (x, y)\n",
    "            click_count += 1\n",
    "        elif click_count == 1:\n",
    "            end = (x, y)\n",
    "            click_count += 1\n",
    "            print(\"Start coordinates:\", start)\n",
    "            print(\"End coordinates:\", end)\n",
    "            cv2.destroyAllWindows()  # Close the window after two clicks\n",
    "\n",
    "if __name__ == \"__main__\":\n",
    "    img = cv2.imread(\"C:\\\\Users\\\\vyas\\\\Desktop\\\\ROBOT PROJECT CODES\\\\floorplan.png\")\n",
    "    cv2.imshow('image', img)\n",
    "    cv2.setMouseCallback('image', click_event)\n",
    "    cv2.waitKey(0)\n"
   ]
  },
  {
   "cell_type": "markdown",
   "id": "0cb17270-dcc6-4ebe-a7f0-b60c802c6e80",
   "metadata": {},
   "source": [
    "#### CODE TO FIND A* PATH FROM START TO END NODES(CLICKING ON IMAGE TO GET THE START AND END NODES)"
   ]
  },
  {
   "cell_type": "code",
   "execution_count": 3,
   "id": "d63f9280-8db8-49ad-8359-b14495e8febf",
   "metadata": {},
   "outputs": [
    {
     "name": "stdout",
     "output_type": "stream",
     "text": [
      "Start coordinates: (214, 49)\n",
      "End coordinates: (122, 133)\n",
      "[<GridNode(214:49 0x23b43229a30)>, <GridNode(214:50 0x23b4323be20)>, <GridNode(214:51 0x23b43253250)>, <GridNode(214:52 0x23b43265640)>, <GridNode(214:53 0x23b43277a30)>, <GridNode(214:54 0x23b43289e20)>, <GridNode(214:55 0x23b432a0250)>, <GridNode(214:56 0x23b432b2640)>, <GridNode(214:57 0x23b432c5a30)>, <GridNode(214:58 0x23b432d7e20)>, <GridNode(214:59 0x23b432f0250)>, <GridNode(214:60 0x23b43302640)>, <GridNode(214:61 0x23b43314a30)>, <GridNode(214:62 0x23b43326e20)>, <GridNode(214:63 0x23b4333d250)>, <GridNode(214:64 0x23b4334f640)>, <GridNode(214:65 0x23b43362a30)>, <GridNode(214:66 0x23b43374e20)>, <GridNode(214:67 0x23b4338d250)>, <GridNode(214:68 0x23b4339f640)>, <GridNode(214:69 0x23b433b1a30)>, <GridNode(214:70 0x23b433c3e20)>, <GridNode(214:71 0x23b433da250)>, <GridNode(214:72 0x23b433ec640)>, <GridNode(214:73 0x23b433ffa30)>, <GridNode(214:74 0x23b43411e20)>, <GridNode(214:75 0x23b43429250)>, <GridNode(214:76 0x23b4343b640)>, <GridNode(214:77 0x23b4344da30)>, <GridNode(214:78 0x23b4345ee20)>, <GridNode(214:79 0x23b43477250)>, <GridNode(214:80 0x23b4348a640)>, <GridNode(214:81 0x23b4349ca30)>, <GridNode(214:82 0x23b434aee20)>, <GridNode(214:83 0x23b434c6250)>, <GridNode(214:84 0x23b434d8640)>, <GridNode(214:85 0x23b434e9a30)>, <GridNode(214:86 0x23b434fbe20)>, <GridNode(214:87 0x23b43513250)>, <GridNode(214:88 0x23b43527640)>, <GridNode(214:89 0x23b43539a30)>, <GridNode(214:90 0x23b4354be20)>, <GridNode(214:91 0x23b43563250)>, <GridNode(214:92 0x23b43574640)>, <GridNode(214:93 0x23b43586a30)>, <GridNode(214:94 0x23b43598e20)>, <GridNode(214:95 0x23b435b0250)>, <GridNode(214:96 0x23b435c3640)>, <GridNode(214:97 0x23b435d5a30)>, <GridNode(214:98 0x23b435e7e20)>, <GridNode(214:99 0x23b435ff250)>, <GridNode(214:100 0x23b43611640)>, <GridNode(214:101 0x23b43623a30)>, <GridNode(214:102 0x23b43635e20)>, <GridNode(214:103 0x23b4364d250)>, <GridNode(214:104 0x23b43660640)>, <GridNode(214:105 0x23b43672a30)>, <GridNode(214:106 0x23b43684e20)>, <GridNode(214:107 0x23b4369b250)>, <GridNode(214:108 0x23b436ae640)>, <GridNode(214:109 0x23b436c0a30)>, <GridNode(214:110 0x23b436d2e20)>, <GridNode(214:111 0x23b436ea250)>, <GridNode(214:112 0x23b436fd640)>, <GridNode(214:113 0x23b4370fa30)>, <GridNode(214:114 0x23b43721e20)>, <GridNode(214:115 0x23b43738250)>, <GridNode(214:116 0x23b4374a640)>, <GridNode(214:117 0x23b4375ca30)>, <GridNode(214:118 0x23b4376ee20)>, <GridNode(214:119 0x23b43787250)>, <GridNode(214:120 0x23b4379a640)>, <GridNode(214:121 0x23b437aca30)>, <GridNode(214:122 0x23b437bee20)>, <GridNode(214:123 0x23b437d5250)>, <GridNode(214:124 0x23b437e7640)>, <GridNode(214:125 0x23b437f9a30)>, <GridNode(214:126 0x23b4380be20)>, <GridNode(214:127 0x23b43823250)>, <GridNode(214:128 0x23b43836640)>, <GridNode(214:129 0x23b43848a30)>, <GridNode(214:130 0x23b43859ca0)>, <GridNode(214:131 0x23b4386b0d0)>, <GridNode(214:132 0x23b438794c0)>, <GridNode(214:133 0x23b4388b8b0)>, <GridNode(213:133 0x23b4388b880)>, <GridNode(212:133 0x23b4388b850)>, <GridNode(211:133 0x23b4388b820)>, <GridNode(210:133 0x23b4388b7f0)>, <GridNode(209:133 0x23b4388b7c0)>, <GridNode(208:133 0x23b4388b790)>, <GridNode(207:133 0x23b4388b760)>, <GridNode(206:133 0x23b4388b730)>, <GridNode(205:133 0x23b4388b700)>, <GridNode(204:133 0x23b4388b6d0)>, <GridNode(203:133 0x23b4388b6a0)>, <GridNode(202:133 0x23b4388b670)>, <GridNode(201:133 0x23b4388b640)>, <GridNode(200:133 0x23b4388b610)>, <GridNode(199:133 0x23b4388b5e0)>, <GridNode(198:133 0x23b4388b5b0)>, <GridNode(197:133 0x23b4388b580)>, <GridNode(196:133 0x23b4388b550)>, <GridNode(195:133 0x23b4388b520)>, <GridNode(194:133 0x23b4388b4f0)>, <GridNode(193:133 0x23b4388b4c0)>, <GridNode(192:133 0x23b4388b490)>, <GridNode(191:133 0x23b4388b460)>, <GridNode(190:133 0x23b4388b430)>, <GridNode(189:133 0x23b4388b400)>, <GridNode(188:133 0x23b4388b3d0)>, <GridNode(187:133 0x23b4388b3a0)>, <GridNode(186:133 0x23b4388b370)>, <GridNode(185:133 0x23b4388b340)>, <GridNode(184:133 0x23b4388b310)>, <GridNode(183:133 0x23b4388b2e0)>, <GridNode(182:133 0x23b4388b2b0)>, <GridNode(181:133 0x23b4388b280)>, <GridNode(180:133 0x23b4388b250)>, <GridNode(179:133 0x23b4388b220)>, <GridNode(178:133 0x23b4388b1f0)>, <GridNode(177:133 0x23b4388b1c0)>, <GridNode(176:133 0x23b4388b190)>, <GridNode(175:133 0x23b4388b160)>, <GridNode(174:133 0x23b4388b130)>, <GridNode(173:133 0x23b4388b100)>, <GridNode(172:133 0x23b4388b0d0)>, <GridNode(171:133 0x23b4388b0a0)>, <GridNode(170:133 0x23b4388b070)>, <GridNode(169:133 0x23b4388b040)>, <GridNode(168:133 0x23b43885fd0)>, <GridNode(167:133 0x23b43885fa0)>, <GridNode(166:133 0x23b43885f70)>, <GridNode(165:133 0x23b43885f40)>, <GridNode(164:133 0x23b43885f10)>, <GridNode(163:133 0x23b43885ee0)>, <GridNode(162:133 0x23b43885eb0)>, <GridNode(161:133 0x23b43885e80)>, <GridNode(160:133 0x23b43885e50)>, <GridNode(159:133 0x23b43885e20)>, <GridNode(158:133 0x23b43885df0)>, <GridNode(157:133 0x23b43885dc0)>, <GridNode(156:133 0x23b43885d90)>, <GridNode(155:133 0x23b43885d60)>, <GridNode(154:133 0x23b43885d30)>, <GridNode(153:133 0x23b43885d00)>, <GridNode(152:133 0x23b43885cd0)>, <GridNode(151:133 0x23b43885ca0)>, <GridNode(150:133 0x23b43885c70)>, <GridNode(149:133 0x23b43885c40)>, <GridNode(148:133 0x23b43885c10)>, <GridNode(147:133 0x23b43885be0)>, <GridNode(146:133 0x23b43885bb0)>, <GridNode(145:133 0x23b43885b80)>, <GridNode(144:133 0x23b43885b50)>, <GridNode(143:133 0x23b43885b20)>, <GridNode(142:133 0x23b43885af0)>, <GridNode(141:133 0x23b43885ac0)>, <GridNode(140:133 0x23b43885a90)>, <GridNode(139:133 0x23b43885a60)>, <GridNode(138:133 0x23b43885a30)>, <GridNode(137:133 0x23b43885a00)>, <GridNode(136:133 0x23b438859d0)>, <GridNode(135:133 0x23b438859a0)>, <GridNode(134:133 0x23b43885970)>, <GridNode(133:133 0x23b43885940)>, <GridNode(132:133 0x23b43885910)>, <GridNode(131:133 0x23b438858e0)>, <GridNode(130:133 0x23b438858b0)>, <GridNode(129:133 0x23b43885880)>, <GridNode(128:133 0x23b43885850)>, <GridNode(127:133 0x23b43885820)>, <GridNode(126:133 0x23b438857f0)>, <GridNode(125:133 0x23b438857c0)>, <GridNode(124:133 0x23b43885790)>, <GridNode(123:133 0x23b43885760)>, <GridNode(122:133 0x23b43885730)>]\n"
     ]
    }
   ],
   "source": [
    "from pathfinding.core.grid import Grid\n",
    "from pathfinding.finder.a_star import AStarFinder\n",
    "import cv2\n",
    "import numpy as np\n",
    "\n",
    "# Variables to store click coordinates\n",
    "click_count = 0\n",
    "start = None\n",
    "end = None\n",
    "\n",
    "def click_event(event, x, y, flags, params):\n",
    "    global click_count, start, end, img\n",
    "\n",
    "    if event == cv2.EVENT_LBUTTONDOWN:\n",
    "        if click_count == 0:\n",
    "            start = (x, y)\n",
    "            click_count += 1\n",
    "        elif click_count == 1:\n",
    "            end = (x, y)\n",
    "            click_count += 1\n",
    "            print(\"Start coordinates:\", start)\n",
    "            print(\"End coordinates:\", end)\n",
    "            cv2.destroyAllWindows()  # Close the window after two clicks\n",
    "\n",
    "def image_to_matrix(image):\n",
    "  \"\"\"Converts an image to a matrix of 1s (free space) and 0s (obstacles)\"\"\"\n",
    "  # Convert image to grayscale (assuming black and white)\n",
    "  gray_image = cv2.cvtColor(image, cv2.COLOR_BGR2GRAY)\n",
    "\n",
    "  # Threshold the image to create binary representation (white: 255, black: 0)\n",
    "  _, binary_image = cv2.threshold(gray_image, 127, 255, cv2.THRESH_BINARY)\n",
    "\n",
    "  # Convert white pixels (255) to 1 and black pixels (0) to 0\n",
    "  return np.where(binary_image == 255, 1, 0)\n",
    "\n",
    "if __name__ == \"__main__\":\n",
    "    img = cv2.imread(\"C:\\\\Users\\\\vyas\\\\Desktop\\\\ROBOT PROJECT CODES\\\\floorplan.png\")\n",
    "    cv2.imshow('image', img)\n",
    "    cv2.setMouseCallback('image', click_event)\n",
    "    cv2.waitKey(0)\n",
    "    \n",
    "    matrix = image_to_matrix(img)\n",
    "\n",
    "    grid = Grid(matrix = matrix)\n",
    "    \n",
    "    startNode = grid.node(start[0],start[1])\n",
    "    endNode = grid.node(end[0], end[1])\n",
    "    \n",
    "    finder = AStarFinder()\n",
    "    path, run = finder.find_path(startNode, endNode, grid)\n",
    "    \n",
    "    print(path)"
   ]
  },
  {
   "cell_type": "markdown",
   "id": "919dc252-4bc5-4a06-9634-87dea6f10377",
   "metadata": {},
   "source": [
    "#### CODE TO EXTRACT (x,y) COORDINATES OF EACH ELEMENT IN THE PATH "
   ]
  },
  {
   "cell_type": "code",
   "execution_count": 5,
   "id": "5f9d6144-e91f-49f7-bfed-cde3a6959918",
   "metadata": {},
   "outputs": [
    {
     "name": "stdout",
     "output_type": "stream",
     "text": [
      "(214, 49) (214, 50) (214, 51) (214, 52) (214, 53) (214, 54) (214, 55) (214, 56) (214, 57) (214, 58) (214, 59) (214, 60) (214, 61) (214, 62) (214, 63) (214, 64) (214, 65) (214, 66) (214, 67) (214, 68) (214, 69) (214, 70) (214, 71) (214, 72) (214, 73) (214, 74) (214, 75) (214, 76) (214, 77) (214, 78) (214, 79) (214, 80) (214, 81) (214, 82) (214, 83) (214, 84) (214, 85) (214, 86) (214, 87) (214, 88) (214, 89) (214, 90) (214, 91) (214, 92) (214, 93) (214, 94) (214, 95) (214, 96) (214, 97) (214, 98) (214, 99) (214, 100) (214, 101) (214, 102) (214, 103) (214, 104) (214, 105) (214, 106) (214, 107) (214, 108) (214, 109) (214, 110) (214, 111) (214, 112) (214, 113) (214, 114) (214, 115) (214, 116) (214, 117) (214, 118) (214, 119) (214, 120) (214, 121) (214, 122) (214, 123) (214, 124) (214, 125) (214, 126) (214, 127) (214, 128) (214, 129) (214, 130) (214, 131) (214, 132) (214, 133) (213, 133) (212, 133) (211, 133) (210, 133) (209, 133) (208, 133) (207, 133) (206, 133) (205, 133) (204, 133) (203, 133) (202, 133) (201, 133) (200, 133) (199, 133) (198, 133) (197, 133) (196, 133) (195, 133) (194, 133) (193, 133) (192, 133) (191, 133) (190, 133) (189, 133) (188, 133) (187, 133) (186, 133) (185, 133) (184, 133) (183, 133) (182, 133) (181, 133) (180, 133) (179, 133) (178, 133) (177, 133) (176, 133) (175, 133) (174, 133) (173, 133) (172, 133) (171, 133) (170, 133) (169, 133) (168, 133) (167, 133) (166, 133) (165, 133) (164, 133) (163, 133) (162, 133) (161, 133) (160, 133) (159, 133) (158, 133) (157, 133) (156, 133) (155, 133) (154, 133) (153, 133) (152, 133) (151, 133) (150, 133) (149, 133) (148, 133) (147, 133) (146, 133) (145, 133) (144, 133) (143, 133) (142, 133) (141, 133) (140, 133) (139, 133) (138, 133) (137, 133) (136, 133) (135, 133) (134, 133) (133, 133) (132, 133) (131, 133) (130, 133) (129, 133) (128, 133) (127, 133) (126, 133) (125, 133) (124, 133) (123, 133) (122, 133) "
     ]
    }
   ],
   "source": [
    "points = []\n",
    "for point in path:\n",
    "    x = point.x\n",
    "    y = point.y\n",
    "    print((x, y), end = \" \")\n",
    "    points.append((x,y))"
   ]
  },
  {
   "cell_type": "code",
   "execution_count": 6,
   "id": "50001f3a-5937-4e24-855f-8a49114f998e",
   "metadata": {},
   "outputs": [
    {
     "name": "stdout",
     "output_type": "stream",
     "text": [
      "(214, 49)\n",
      "(214, 50)\n",
      "(214, 51)\n",
      "(214, 52)\n",
      "(214, 53)\n",
      "(214, 54)\n",
      "(214, 55)\n",
      "(214, 56)\n",
      "(214, 57)\n",
      "(214, 58)\n",
      "(214, 59)\n",
      "(214, 60)\n",
      "(214, 61)\n",
      "(214, 62)\n",
      "(214, 63)\n",
      "(214, 64)\n",
      "(214, 65)\n",
      "(214, 66)\n",
      "(214, 67)\n",
      "(214, 68)\n",
      "(214, 69)\n",
      "(214, 70)\n",
      "(214, 71)\n",
      "(214, 72)\n",
      "(214, 73)\n",
      "(214, 74)\n",
      "(214, 75)\n",
      "(214, 76)\n",
      "(214, 77)\n",
      "(214, 78)\n",
      "(214, 79)\n",
      "(214, 80)\n",
      "(214, 81)\n",
      "(214, 82)\n",
      "(214, 83)\n",
      "(214, 84)\n",
      "(214, 85)\n",
      "(214, 86)\n",
      "(214, 87)\n",
      "(214, 88)\n",
      "(214, 89)\n",
      "(214, 90)\n",
      "(214, 91)\n",
      "(214, 92)\n",
      "(214, 93)\n",
      "(214, 94)\n",
      "(214, 95)\n",
      "(214, 96)\n",
      "(214, 97)\n",
      "(214, 98)\n",
      "(214, 99)\n",
      "(214, 100)\n",
      "(214, 101)\n",
      "(214, 102)\n",
      "(214, 103)\n",
      "(214, 104)\n",
      "(214, 105)\n",
      "(214, 106)\n",
      "(214, 107)\n",
      "(214, 108)\n",
      "(214, 109)\n",
      "(214, 110)\n",
      "(214, 111)\n",
      "(214, 112)\n",
      "(214, 113)\n",
      "(214, 114)\n",
      "(214, 115)\n",
      "(214, 116)\n",
      "(214, 117)\n",
      "(214, 118)\n",
      "(214, 119)\n",
      "(214, 120)\n",
      "(214, 121)\n",
      "(214, 122)\n",
      "(214, 123)\n",
      "(214, 124)\n",
      "(214, 125)\n",
      "(214, 126)\n",
      "(214, 127)\n",
      "(214, 128)\n",
      "(214, 129)\n",
      "(214, 130)\n",
      "(214, 131)\n",
      "(214, 132)\n",
      "(214, 133)\n",
      "(213, 133)\n",
      "(212, 133)\n",
      "(211, 133)\n",
      "(210, 133)\n",
      "(209, 133)\n",
      "(208, 133)\n",
      "(207, 133)\n",
      "(206, 133)\n",
      "(205, 133)\n",
      "(204, 133)\n",
      "(203, 133)\n",
      "(202, 133)\n",
      "(201, 133)\n",
      "(200, 133)\n",
      "(199, 133)\n",
      "(198, 133)\n",
      "(197, 133)\n",
      "(196, 133)\n",
      "(195, 133)\n",
      "(194, 133)\n",
      "(193, 133)\n",
      "(192, 133)\n",
      "(191, 133)\n",
      "(190, 133)\n",
      "(189, 133)\n",
      "(188, 133)\n",
      "(187, 133)\n",
      "(186, 133)\n",
      "(185, 133)\n",
      "(184, 133)\n",
      "(183, 133)\n",
      "(182, 133)\n",
      "(181, 133)\n",
      "(180, 133)\n",
      "(179, 133)\n",
      "(178, 133)\n",
      "(177, 133)\n",
      "(176, 133)\n",
      "(175, 133)\n",
      "(174, 133)\n",
      "(173, 133)\n",
      "(172, 133)\n",
      "(171, 133)\n",
      "(170, 133)\n",
      "(169, 133)\n",
      "(168, 133)\n",
      "(167, 133)\n",
      "(166, 133)\n",
      "(165, 133)\n",
      "(164, 133)\n",
      "(163, 133)\n",
      "(162, 133)\n",
      "(161, 133)\n",
      "(160, 133)\n",
      "(159, 133)\n",
      "(158, 133)\n",
      "(157, 133)\n",
      "(156, 133)\n",
      "(155, 133)\n",
      "(154, 133)\n",
      "(153, 133)\n",
      "(152, 133)\n",
      "(151, 133)\n",
      "(150, 133)\n",
      "(149, 133)\n",
      "(148, 133)\n",
      "(147, 133)\n",
      "(146, 133)\n",
      "(145, 133)\n",
      "(144, 133)\n",
      "(143, 133)\n",
      "(142, 133)\n",
      "(141, 133)\n",
      "(140, 133)\n",
      "(139, 133)\n",
      "(138, 133)\n",
      "(137, 133)\n",
      "(136, 133)\n",
      "(135, 133)\n",
      "(134, 133)\n",
      "(133, 133)\n",
      "(132, 133)\n",
      "(131, 133)\n",
      "(130, 133)\n",
      "(129, 133)\n",
      "(128, 133)\n",
      "(127, 133)\n",
      "(126, 133)\n",
      "(125, 133)\n",
      "(124, 133)\n",
      "(123, 133)\n",
      "(122, 133)\n"
     ]
    }
   ],
   "source": [
    "for i in points:\n",
    "    print(i)"
   ]
  },
  {
   "cell_type": "markdown",
   "id": "7d0e32cd-4b49-4bc3-a69c-b8a369e77ba6",
   "metadata": {},
   "source": [
    "#### LOGIC TO GET THE DIRECTION TO MOVE TO NEXT COORDINATE"
   ]
  },
  {
   "cell_type": "code",
   "execution_count": 8,
   "id": "5094593d-6533-4852-bb82-a824cd9c0e35",
   "metadata": {},
   "outputs": [],
   "source": [
    "x = 0\n",
    "directions = []\n",
    "while(x < len(points)):\n",
    "    if(x == 0):\n",
    "        x+=1\n",
    "        continue\n",
    "    else:\n",
    "        if(points[x-1][0] < points[x][0]):\n",
    "            direction = \"east\"\n",
    "            x+=1\n",
    "        elif(points[x-1][0] > points[x][0]):\n",
    "            direction = \"west\"\n",
    "            x+=1\n",
    "        elif(points[x-1][1] < points[x][1]):\n",
    "            direction = \"south\"\n",
    "            x+=1\n",
    "        elif(points[x-1][1] > points[x][1]):\n",
    "            direction = \"north\"\n",
    "            x+=1\n",
    "        directions.append(direction)\n",
    "            \n",
    "    "
   ]
  },
  {
   "cell_type": "markdown",
   "id": "abcfd289-9825-4b0d-aa94-faf051294b70",
   "metadata": {},
   "source": [
    "#### TO STORE THE NUMBER OF TIMES ONE COMMAND HAS OCCURRED CONSECUTIVELY"
   ]
  },
  {
   "cell_type": "code",
   "execution_count": 14,
   "id": "9fc9f01d-1826-4f8c-bb1d-7c5f46d13a6c",
   "metadata": {},
   "outputs": [
    {
     "name": "stdout",
     "output_type": "stream",
     "text": [
      "[('south', 84), ('west', 92)]\n"
     ]
    }
   ],
   "source": [
    "x = 0\n",
    "count = 0\n",
    "command = directions[0]\n",
    "commands = []\n",
    "for direction in directions:\n",
    "    if (command == direction):\n",
    "        count+=1\n",
    "        x+=1\n",
    "    if (x+1 == len(directions)):\n",
    "        if(command == direction):\n",
    "            count+=1\n",
    "            commands.append((command, count))\n",
    "            continue\n",
    "        else:\n",
    "            commands.append((command, count))\n",
    "            command = direction\n",
    "            count = 1\n",
    "            commands((command, count))\n",
    "    \n",
    "    if (command != direction):\n",
    "        commands.append((command, count))\n",
    "        command = direction\n",
    "        count = 1\n",
    "        x+=1\n",
    "\n",
    "print(commands)\n"
   ]
  },
  {
   "cell_type": "code",
   "execution_count": null,
   "id": "37493f50-7c06-4f3b-baa8-eee171ca37f2",
   "metadata": {},
   "outputs": [],
   "source": []
  }
 ],
 "metadata": {
  "kernelspec": {
   "display_name": "Python 3 (ipykernel)",
   "language": "python",
   "name": "python3"
  },
  "language_info": {
   "codemirror_mode": {
    "name": "ipython",
    "version": 3
   },
   "file_extension": ".py",
   "mimetype": "text/x-python",
   "name": "python",
   "nbconvert_exporter": "python",
   "pygments_lexer": "ipython3",
   "version": "3.9.6"
  }
 },
 "nbformat": 4,
 "nbformat_minor": 5
}
